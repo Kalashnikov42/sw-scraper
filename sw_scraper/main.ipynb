{
 "cells": [
  {
   "cell_type": "code",
   "execution_count": null,
   "metadata": {},
   "outputs": [],
   "source": [
    "from bs4 import BeautifulSoup\n",
    "import requests\n",
    "import pandas as pd"
   ]
  },
  {
   "cell_type": "code",
   "execution_count": null,
   "metadata": {},
   "outputs": [],
   "source": [
    "base_url=\"https://www.starwars.com/databank/\"\n",
    "names = pd.read_csv('./data/people.csv')"
   ]
  },
  {
   "cell_type": "code",
   "execution_count": null,
   "metadata": {},
   "outputs": [],
   "source": [
    "data=[]\n",
    "\n",
    "for name in names['name']:\n",
    "    url=f\"{base_url}{name.lower().replace(' ', '-')}\"\n",
    "    res=requests.get(url)\n",
    "    soup=BeautifulSoup(res.content, 'html.parser')\n",
    "\n",
    "    row=soup.find('div',class_='aspect')\n",
    "    img=None\n",
    "    if row is not None:\n",
    "        img_element=row.find('img')\n",
    "        if img_element is not None:\n",
    "            img=img_element.get('data-src')\n",
    "            if img is not None:\n",
    "                img = img.replace('&width=320', '')\n",
    "    \n",
    "    row=soup.find('div',class_='content-bumper')\n",
    "    if row is not None:\n",
    "        row=row.find('div',class_='desc-sizer')\n",
    "    desc=None\n",
    "    if row is not None:\n",
    "        desc_element=row.find('p',class_='desc')\n",
    "        if desc_element is not None:\n",
    "            desc=desc_element.get_text()\n",
    "    data.append([name,img,desc])\n",
    "\n",
    "df = pd.DataFrame(data, columns=['name', 'image', 'description'])"
   ]
  },
  {
   "cell_type": "code",
   "execution_count": null,
   "metadata": {},
   "outputs": [],
   "source": [
    "df"
   ]
  },
  {
   "cell_type": "code",
   "execution_count": null,
   "metadata": {},
   "outputs": [],
   "source": [
    "df.to_csv('../output/people-out.csv', index=False)\n"
   ]
  },
  {
   "cell_type": "code",
   "execution_count": 1,
   "metadata": {},
   "outputs": [],
   "source": [
    "import os\n",
    "from supabase import create_client,Client\n",
    "from dotenv import load_dotenv\n",
    "\n",
    "load_dotenv()\n",
    "\n",
    "url: str = os.environ.get('SUPABASE_URL')\n",
    "key: str = os.environ.get('SUPABASE_ANON_KEY')\n",
    "supabase: Client = create_client(url, key)"
   ]
  },
  {
   "cell_type": "code",
   "execution_count": null,
   "metadata": {},
   "outputs": [],
   "source": [
    "for index, row in df.iterrows():\n",
    "    name = row['name']\n",
    "    image = row['image']\n",
    "    description = row['description']\n",
    "\n",
    "    init = {\n",
    "        'image': image,\n",
    "        'description': description\n",
    "    }\n",
    "\n",
    "    data,count = supabase.table('people').update(init).eq('name',name).execute()\n",
    "    print(data,count)\n"
   ]
  }
 ],
 "metadata": {
  "kernelspec": {
   "display_name": "sw-scraper-22SYjAF--py3.12",
   "language": "python",
   "name": "python3"
  },
  "language_info": {
   "codemirror_mode": {
    "name": "ipython",
    "version": 3
   },
   "file_extension": ".py",
   "mimetype": "text/x-python",
   "name": "python",
   "nbconvert_exporter": "python",
   "pygments_lexer": "ipython3",
   "version": "3.12.2"
  }
 },
 "nbformat": 4,
 "nbformat_minor": 2
}
